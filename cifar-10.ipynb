{
 "cells": [
  {
   "cell_type": "code",
   "execution_count": 56,
   "id": "0a989bdf",
   "metadata": {},
   "outputs": [
    {
     "name": "stdout",
     "output_type": "stream",
     "text": [
      "Populating the interactive namespace from numpy and matplotlib\n"
     ]
    }
   ],
   "source": [
    "%pylab inline\n",
    "import numpy as np\n",
    "from tqdm import trange"
   ]
  },
  {
   "cell_type": "code",
   "execution_count": 50,
   "id": "58ac9415",
   "metadata": {},
   "outputs": [],
   "source": [
    "#First download and unzip cifar-10 somewhere\n",
    "def unpickle(file):\n",
    "    import pickle\n",
    "    with open(file, 'rb') as f:\n",
    "        fo = pickle.load(f, encoding='bytes')\n",
    "    return fo\n",
    "\n",
    "def load_data(path):\n",
    "    import os\n",
    "    X_train = None\n",
    "    Y_train = []\n",
    "    X_test = None\n",
    "    Y_test = []\n",
    "    for i in range(1, 6):\n",
    "        dic = unpickle(os.path.join(path, \"data_batch_{}\".format(i)))\n",
    "        if i == 1:\n",
    "            X_train = dic[b'data']\n",
    "        else:\n",
    "            X_train = np.vstack((X_train, dic[b'data']))\n",
    "        Y_train += dic[b'labels']\n",
    "    dic = unpickle(os.path.join(path, \"test_batch\"))\n",
    "    X_test = dic[b'data']\n",
    "    Y_test = dic[b'labels']\n",
    "    X_train = np.rollaxis(X_train.reshape((-1, 3, 32, 32)), 1, 4)\n",
    "    X_test = np.rollaxis(X_test.reshape((-1, 3, 32, 32)), 1, 4)\n",
    "    \n",
    "    return X_train, np.array(Y_train), X_test, np.array(Y_test)\n",
    "        \n",
    "    \n",
    "X_train, Y_train, X_test, Y_test = load_data(\"/tmp/cifar-10-batches-py\")"
   ]
  },
  {
   "cell_type": "code",
   "execution_count": 54,
   "id": "48ec33d2",
   "metadata": {},
   "outputs": [
    {
     "name": "stdout",
     "output_type": "stream",
     "text": [
      "(50000, 32, 32, 3) (50000,) (10000, 32, 32, 3) (10000,)\n"
     ]
    },
    {
     "data": {
      "text/plain": [
       "<matplotlib.image.AxesImage at 0x7f174294bc10>"
      ]
     },
     "execution_count": 54,
     "metadata": {},
     "output_type": "execute_result"
    },
    {
     "data": {
      "image/png": "[encoded data removed]",
      "text/plain": [
       "<Figure size 432x288 with 1 Axes>"
      ]
     },
     "metadata": {
      "needs_background": "light"
     },
     "output_type": "display_data"
    }
   ],
   "source": [
    "print(X_train.shape, Y_train.shape, X_test.shape, Y_test.shape)\n",
    "plt.imshow(X_train[np.random.randint(50000)])"
   ]
  },
  {
   "cell_type": "code",
   "execution_count": 60,
   "id": "722466c6",
   "metadata": {},
   "outputs": [],
   "source": [
    "import torch\n",
    "from torch import nn\n",
    "import torch.nn.functional as F\n",
    "class CifarNet(nn.Module):\n",
    "    def __init__(self):\n",
    "        super(CifarNet, self).__init__()\n",
    "        self.l1 = nn.Linear(32*32*3, 1536)\n",
    "        self.l2 = nn.Linear(1536, 768)\n",
    "        self.l3 = nn.Linear(768, 384)\n",
    "        self.l4 = nn.Linear(384, 128)\n",
    "        self.l5 = nn.Linear(128, 10)\n",
    "        \n",
    "    def forward(self, x):\n",
    "        x = self.l1(x)\n",
    "        x = F.relu(x)\n",
    "        x = self.l2(x)\n",
    "        x = F.relu(x)\n",
    "        x = self.l3(x)\n",
    "        x = F.relu(x)\n",
    "        x = self.l4(x)\n",
    "        x = F.relu(x)\n",
    "        x = self.l5(x)\n",
    "        \n",
    "        return x"
   ]
  },
  {
   "cell_type": "code",
   "execution_count": 78,
   "id": "0d349f36",
   "metadata": {},
   "outputs": [
    {
     "name": "stderr",
     "output_type": "stream",
     "text": [
      "loss: 1.38 accuracy: 0.50: 100%|██████████| 2000/2000 [02:02<00:00, 16.30it/s]\n"
     ]
    },
    {
     "data": {
      "text/plain": [
       "[<matplotlib.lines.Line2D at 0x7f173ce6a490>]"
      ]
     },
     "execution_count": 78,
     "metadata": {},
     "output_type": "execute_result"
    },
    {
     "data": {
      "image/png": "[encoded data removed]",
      "text/plain": [
       "<Figure size 432x288 with 1 Axes>"
      ]
     },
     "metadata": {
      "needs_background": "light"
     },
     "output_type": "display_data"
    }
   ],
   "source": [
    "model = CifarNet()\n",
    "epochs = 2000\n",
    "bs = 128\n",
    "lr = 1e-3\n",
    "\n",
    "lossf = nn.CrossEntropyLoss()\n",
    "optim = torch.optim.SGD(model.parameters(), lr=lr)\n",
    "\n",
    "losses, accuracies = [], []\n",
    "\n",
    "for i in (t := trange(epochs)):\n",
    "    samp = np.random.randint(0, X_train.shape[0], size=bs)\n",
    "    X = torch.tensor(X_train[samp].reshape(-1, 32*32*3)).float()\n",
    "    Y = torch.tensor(Y_train[samp]).long()\n",
    "    \n",
    "    #forward\n",
    "    out = model(X)\n",
    "    loss = lossf(out, Y)\n",
    "    cat = torch.argmax(out, dim=1)\n",
    "    accuracy = (cat == Y).float().mean()\n",
    "    \n",
    "    #backprop\n",
    "    optim.zero_grad()\n",
    "    loss.backward()\n",
    "    optim.step()\n",
    "    \n",
    "    #logging\n",
    "    loss, accuracy = loss.item(), accuracy.item()\n",
    "    losses.append(loss)\n",
    "    accuracies.append(accuracy)\n",
    "    t.set_description(\"loss: %.2f accuracy: %.2f\" % (loss, accuracy))\n",
    "plot(losses)\n",
    "plot(accuracies)"
   ]
  },
  {
   "cell_type": "code",
   "execution_count": 79,
   "id": "cbb921cb",
   "metadata": {},
   "outputs": [
    {
     "data": {
      "text/plain": [
       "0.4587"
      ]
     },
     "execution_count": 79,
     "metadata": {},
     "output_type": "execute_result"
    }
   ],
   "source": [
    "Y_test_preds = torch.argmax(model(torch.tensor(X_test.reshape((-1, 32*32*3))).float()), dim=1).numpy()\n",
    "(Y_test == Y_test_preds).mean()"
   ]
  }
 ],
 "metadata": {
  "kernelspec": {
   "display_name": "Python 3",
   "language": "python",
   "name": "python3"
  },
  "language_info": {
   "codemirror_mode": {
    "name": "ipython",
    "version": 3
   },
   "file_extension": ".py",
   "mimetype": "text/x-python",
   "name": "python",
   "nbconvert_exporter": "python",
   "pygments_lexer": "ipython3",
   "version": "3.8.8"
  }
 },
 "nbformat": 4,
 "nbformat_minor": 5
}
